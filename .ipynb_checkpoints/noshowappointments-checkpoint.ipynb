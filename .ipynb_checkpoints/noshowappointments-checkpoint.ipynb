{
 "cells": [
  {
   "cell_type": "markdown",
   "id": "fa9600de",
   "metadata": {},
   "source": [
    "\n",
    "\n",
    "# Project: Investigate a Dataset - No-show appointments\n",
    "\n",
    "## Table of Contents\n",
    "<ul>\n",
    "<li><a href=\"#intro\">Introduction</a></li>\n",
    "<li><a href=\"#wrangling\">Data Wrangling</a></li>\n",
    "<li><a href=\"#eda\">Exploratory Data Analysis</a></li>\n",
    "<li><a href=\"#conclusions\">Conclusions</a></li>\n",
    "</ul>\n",
    "\n"
   ]
  },
  {
   "cell_type": "markdown",
   "id": "3e05b2af",
   "metadata": {},
   "source": [
    "<a id='intro'></a>\n",
    "## Introduction\n",
    "\n",
    "### Description  de notre jeu de données\n",
    "\n",
    "Notre jeu de données regroupe les informations de plus de 100 000 rendez-vous médicals au Brésil et est orienté sur la question si oui ou non les patients se présente à leur rendez-vous.Ci-dessous est présenté les différentes informations collectées.\n",
    "\n",
    "<ol>\n",
    "    <li> <strong>PatientId</strong>: Identifiant du patient </li>\n",
    "    <li> <strong>AppointmentID</strong>: Identifiant de chaque rendez-vous </li>\n",
    "    <li> <strong>Gender</strong>: Genre ( Homme ou Femme) </li>\n",
    "    <li> <strong>ScheduledDay</strong>: Jour de reservation </li>\n",
    "    <li> <strong>AppointmentDay</strong>: Jour du rendez-vous </li>\n",
    "    <li> <strong>Age</strong>: Age du patient </li>\n",
    "    <li> <strong>Neighbourhood</strong>:Lieu du rendez-vous </li>\n",
    "    <li> <strong>Scholarship</strong>: Support financière (vrai ou faux) </li>\n",
    "    <li> <strong>Hipertension</strong>: Hypertension (vrai ou faux) </li>\n",
    "    <li> <strong>Diabetes</strong>: Diabète (vrai ou faux) </li>\n",
    "    <li> <strong>Alcoholism</strong>: Alcolique (vrai ou faux)</li>\n",
    "    <li> <strong>Handcap</strong>: Handicape (vrai ou faux) </li>\n",
    "    <li> <strong>SMS_received</strong>: SMS de rappel reçu 1 ou plusieurs. </li>\n",
    "    <li> <strong>No-show</strong>: présent au rendez-vous (vrai ou faux) </li>\n",
    "<ol>\n",
    "\n",
    "   \n"
   ]
  },
  {
   "cell_type": "markdown",
   "id": "f3a2188b",
   "metadata": {},
   "source": [
    "### Question(s) pour l'analyse\n",
    "    \n",
    "Quels facteurs font qu'un patient peut ne pas se présenter à un rendez-vous? Nous allons essayer de répondre à cette question en explorant notre jeu de données."
   ]
  },
  {
   "cell_type": "code",
   "execution_count": 3,
   "id": "82bd290d",
   "metadata": {},
   "outputs": [],
   "source": [
    "# Importation de packages\n",
    "import pandas as pd\n",
    "import numpy as np\n",
    "import matplotlib.pyplot as plt\n",
    "%matplotlib inline"
   ]
  },
  {
   "cell_type": "markdown",
   "id": "561bc276",
   "metadata": {},
   "source": [
    "## Data Wrangling"
   ]
  },
  {
   "cell_type": "markdown",
   "id": "38fbfa0b",
   "metadata": {},
   "source": [
    "### Chargement de notre jeu de donnée"
   ]
  },
  {
   "cell_type": "code",
   "execution_count": 4,
   "id": "a4684d85",
   "metadata": {
    "scrolled": true
   },
   "outputs": [
    {
     "data": {
      "text/html": [
       "<div>\n",
       "<style scoped>\n",
       "    .dataframe tbody tr th:only-of-type {\n",
       "        vertical-align: middle;\n",
       "    }\n",
       "\n",
       "    .dataframe tbody tr th {\n",
       "        vertical-align: top;\n",
       "    }\n",
       "\n",
       "    .dataframe thead th {\n",
       "        text-align: right;\n",
       "    }\n",
       "</style>\n",
       "<table border=\"1\" class=\"dataframe\">\n",
       "  <thead>\n",
       "    <tr style=\"text-align: right;\">\n",
       "      <th></th>\n",
       "      <th>PatientId</th>\n",
       "      <th>AppointmentID</th>\n",
       "      <th>Gender</th>\n",
       "      <th>ScheduledDay</th>\n",
       "      <th>AppointmentDay</th>\n",
       "      <th>Age</th>\n",
       "      <th>Neighbourhood</th>\n",
       "      <th>Scholarship</th>\n",
       "      <th>Hipertension</th>\n",
       "      <th>Diabetes</th>\n",
       "      <th>Alcoholism</th>\n",
       "      <th>Handcap</th>\n",
       "      <th>SMS_received</th>\n",
       "      <th>No-show</th>\n",
       "    </tr>\n",
       "  </thead>\n",
       "  <tbody>\n",
       "    <tr>\n",
       "      <th>0</th>\n",
       "      <td>2.987250e+13</td>\n",
       "      <td>5642903</td>\n",
       "      <td>F</td>\n",
       "      <td>2016-04-29T18:38:08Z</td>\n",
       "      <td>2016-04-29T00:00:00Z</td>\n",
       "      <td>62</td>\n",
       "      <td>JARDIM DA PENHA</td>\n",
       "      <td>0</td>\n",
       "      <td>1</td>\n",
       "      <td>0</td>\n",
       "      <td>0</td>\n",
       "      <td>0</td>\n",
       "      <td>0</td>\n",
       "      <td>No</td>\n",
       "    </tr>\n",
       "    <tr>\n",
       "      <th>1</th>\n",
       "      <td>5.589978e+14</td>\n",
       "      <td>5642503</td>\n",
       "      <td>M</td>\n",
       "      <td>2016-04-29T16:08:27Z</td>\n",
       "      <td>2016-04-29T00:00:00Z</td>\n",
       "      <td>56</td>\n",
       "      <td>JARDIM DA PENHA</td>\n",
       "      <td>0</td>\n",
       "      <td>0</td>\n",
       "      <td>0</td>\n",
       "      <td>0</td>\n",
       "      <td>0</td>\n",
       "      <td>0</td>\n",
       "      <td>No</td>\n",
       "    </tr>\n",
       "    <tr>\n",
       "      <th>2</th>\n",
       "      <td>4.262962e+12</td>\n",
       "      <td>5642549</td>\n",
       "      <td>F</td>\n",
       "      <td>2016-04-29T16:19:04Z</td>\n",
       "      <td>2016-04-29T00:00:00Z</td>\n",
       "      <td>62</td>\n",
       "      <td>MATA DA PRAIA</td>\n",
       "      <td>0</td>\n",
       "      <td>0</td>\n",
       "      <td>0</td>\n",
       "      <td>0</td>\n",
       "      <td>0</td>\n",
       "      <td>0</td>\n",
       "      <td>No</td>\n",
       "    </tr>\n",
       "    <tr>\n",
       "      <th>3</th>\n",
       "      <td>8.679512e+11</td>\n",
       "      <td>5642828</td>\n",
       "      <td>F</td>\n",
       "      <td>2016-04-29T17:29:31Z</td>\n",
       "      <td>2016-04-29T00:00:00Z</td>\n",
       "      <td>8</td>\n",
       "      <td>PONTAL DE CAMBURI</td>\n",
       "      <td>0</td>\n",
       "      <td>0</td>\n",
       "      <td>0</td>\n",
       "      <td>0</td>\n",
       "      <td>0</td>\n",
       "      <td>0</td>\n",
       "      <td>No</td>\n",
       "    </tr>\n",
       "    <tr>\n",
       "      <th>4</th>\n",
       "      <td>8.841186e+12</td>\n",
       "      <td>5642494</td>\n",
       "      <td>F</td>\n",
       "      <td>2016-04-29T16:07:23Z</td>\n",
       "      <td>2016-04-29T00:00:00Z</td>\n",
       "      <td>56</td>\n",
       "      <td>JARDIM DA PENHA</td>\n",
       "      <td>0</td>\n",
       "      <td>1</td>\n",
       "      <td>1</td>\n",
       "      <td>0</td>\n",
       "      <td>0</td>\n",
       "      <td>0</td>\n",
       "      <td>No</td>\n",
       "    </tr>\n",
       "  </tbody>\n",
       "</table>\n",
       "</div>"
      ],
      "text/plain": [
       "      PatientId  AppointmentID Gender          ScheduledDay  \\\n",
       "0  2.987250e+13        5642903      F  2016-04-29T18:38:08Z   \n",
       "1  5.589978e+14        5642503      M  2016-04-29T16:08:27Z   \n",
       "2  4.262962e+12        5642549      F  2016-04-29T16:19:04Z   \n",
       "3  8.679512e+11        5642828      F  2016-04-29T17:29:31Z   \n",
       "4  8.841186e+12        5642494      F  2016-04-29T16:07:23Z   \n",
       "\n",
       "         AppointmentDay  Age      Neighbourhood  Scholarship  Hipertension  \\\n",
       "0  2016-04-29T00:00:00Z   62    JARDIM DA PENHA            0             1   \n",
       "1  2016-04-29T00:00:00Z   56    JARDIM DA PENHA            0             0   \n",
       "2  2016-04-29T00:00:00Z   62      MATA DA PRAIA            0             0   \n",
       "3  2016-04-29T00:00:00Z    8  PONTAL DE CAMBURI            0             0   \n",
       "4  2016-04-29T00:00:00Z   56    JARDIM DA PENHA            0             1   \n",
       "\n",
       "   Diabetes  Alcoholism  Handcap  SMS_received No-show  \n",
       "0         0           0        0             0      No  \n",
       "1         0           0        0             0      No  \n",
       "2         0           0        0             0      No  \n",
       "3         0           0        0             0      No  \n",
       "4         1           0        0             0      No  "
      ]
     },
     "execution_count": 4,
     "metadata": {},
     "output_type": "execute_result"
    }
   ],
   "source": [
    "df = pd.read_csv(\"KaggleV2-May-2016.csv\",sep=\",\")\n",
    "# affichage des 5 premières lignes de notre jeu de données\n",
    "df.head()"
   ]
  },
  {
   "cell_type": "markdown",
   "id": "c135ca77",
   "metadata": {},
   "source": [
    "### Liste des colonnes et leur type"
   ]
  },
  {
   "cell_type": "code",
   "execution_count": 5,
   "id": "7f1f03e4",
   "metadata": {},
   "outputs": [
    {
     "name": "stdout",
     "output_type": "stream",
     "text": [
      "<class 'pandas.core.frame.DataFrame'>\n",
      "RangeIndex: 110527 entries, 0 to 110526\n",
      "Data columns (total 14 columns):\n",
      " #   Column          Non-Null Count   Dtype  \n",
      "---  ------          --------------   -----  \n",
      " 0   PatientId       110527 non-null  float64\n",
      " 1   AppointmentID   110527 non-null  int64  \n",
      " 2   Gender          110527 non-null  object \n",
      " 3   ScheduledDay    110527 non-null  object \n",
      " 4   AppointmentDay  110527 non-null  object \n",
      " 5   Age             110527 non-null  int64  \n",
      " 6   Neighbourhood   110527 non-null  object \n",
      " 7   Scholarship     110527 non-null  int64  \n",
      " 8   Hipertension    110527 non-null  int64  \n",
      " 9   Diabetes        110527 non-null  int64  \n",
      " 10  Alcoholism      110527 non-null  int64  \n",
      " 11  Handcap         110527 non-null  int64  \n",
      " 12  SMS_received    110527 non-null  int64  \n",
      " 13  No-show         110527 non-null  object \n",
      "dtypes: float64(1), int64(8), object(5)\n",
      "memory usage: 11.8+ MB\n"
     ]
    }
   ],
   "source": [
    "df.info()"
   ]
  },
  {
   "cell_type": "markdown",
   "id": "bec3f0ee",
   "metadata": {},
   "source": [
    "### Les dimensions de notre jeu de données"
   ]
  },
  {
   "cell_type": "code",
   "execution_count": 6,
   "id": "e057b69c",
   "metadata": {},
   "outputs": [
    {
     "data": {
      "text/plain": [
       "(110527, 14)"
      ]
     },
     "execution_count": 6,
     "metadata": {},
     "output_type": "execute_result"
    }
   ],
   "source": [
    "df.shape"
   ]
  },
  {
   "cell_type": "markdown",
   "id": "0831d77f",
   "metadata": {},
   "source": [
    "### Le nombre de valeur manquante\n",
    "Nous cherchons si notre dataset contient des valeurs manquantes que nous nettoyeront par la suite."
   ]
  },
  {
   "cell_type": "code",
   "execution_count": 8,
   "id": "7bcd1248",
   "metadata": {},
   "outputs": [
    {
     "data": {
      "text/plain": [
       "PatientId         0\n",
       "AppointmentID     0\n",
       "Gender            0\n",
       "ScheduledDay      0\n",
       "AppointmentDay    0\n",
       "Age               0\n",
       "Neighbourhood     0\n",
       "Scholarship       0\n",
       "Hipertension      0\n",
       "Diabetes          0\n",
       "Alcoholism        0\n",
       "Handcap           0\n",
       "SMS_received      0\n",
       "No-show           0\n",
       "dtype: int64"
      ]
     },
     "execution_count": 8,
     "metadata": {},
     "output_type": "execute_result"
    }
   ],
   "source": [
    "df.isnull().sum()"
   ]
  },
  {
   "cell_type": "markdown",
   "id": "0ba99076",
   "metadata": {},
   "source": [
    "### Le nombre de ligne dupliqué"
   ]
  },
  {
   "cell_type": "code",
   "execution_count": 9,
   "id": "63b29f10",
   "metadata": {},
   "outputs": [
    {
     "data": {
      "text/plain": [
       "0"
      ]
     },
     "execution_count": 9,
     "metadata": {},
     "output_type": "execute_result"
    }
   ],
   "source": [
    "df.duplicated().sum()"
   ]
  },
  {
   "cell_type": "markdown",
   "id": "7b81db0b",
   "metadata": {},
   "source": [
    "Notre jeu de données ne contient ni de valeur manquante ni de ligne dupliquée."
   ]
  },
  {
   "cell_type": "code",
   "execution_count": 12,
   "id": "57636097",
   "metadata": {},
   "outputs": [
    {
     "data": {
      "text/plain": [
       "PatientId          62299\n",
       "AppointmentID     110527\n",
       "Gender                 2\n",
       "ScheduledDay      103549\n",
       "AppointmentDay        27\n",
       "Age                  104\n",
       "Neighbourhood         81\n",
       "Scholarship            2\n",
       "Hipertension           2\n",
       "Diabetes               2\n",
       "Alcoholism             2\n",
       "Handcap                5\n",
       "SMS_received           2\n",
       "No-show                2\n",
       "dtype: int64"
      ]
     },
     "execution_count": 12,
     "metadata": {},
     "output_type": "execute_result"
    }
   ],
   "source": [
    "df.nunique()"
   ]
  },
  {
   "cell_type": "markdown",
   "id": "1fc5ba76",
   "metadata": {},
   "source": [
    "En vérifiant le nombre de valeurs uniques de nos données, nous constatont qu'ils existe des patients ayant programmé programmer plusieurs rendez-vous. Et que handcap peut contenir 5 valeurs différentes."
   ]
  },
  {
   "cell_type": "code",
   "execution_count": 22,
   "id": "4185a820",
   "metadata": {},
   "outputs": [
    {
     "data": {
      "text/plain": [
       "array([0, 1], dtype=int64)"
      ]
     },
     "execution_count": 22,
     "metadata": {},
     "output_type": "execute_result"
    }
   ],
   "source": [
    "df.Handcap.unique()"
   ]
  },
  {
   "cell_type": "markdown",
   "id": "e9000d14",
   "metadata": {},
   "source": [
    ">En étudiant la description de notre dataset, nous avons définit Handcap comme pouvant prendre les valeurs vrai(1) ou faux(0). Dans cette exploration, nous constatons qu'il peut en prendre plus. N'ayant donc pas les précisions sur les valeurs supplémentaires [2,3,4], à supposer qu'elles puissent indiquer sur le type d'handicape atteint par le patient, nous allons donc les remplacer par 1 pour ainsi dire que le patient est atteint d'handicap."
   ]
  },
  {
   "cell_type": "code",
   "execution_count": 16,
   "id": "c022a054",
   "metadata": {},
   "outputs": [],
   "source": [
    "# remplacement des valeurs de Handcap >=2 par 1\n",
    "df.loc[df[\"Handcap\"]>=2]=1"
   ]
  },
  {
   "cell_type": "code",
   "execution_count": 17,
   "id": "8bf14cfc",
   "metadata": {},
   "outputs": [
    {
     "data": {
      "text/plain": [
       "array([0, 1], dtype=int64)"
      ]
     },
     "execution_count": 17,
     "metadata": {},
     "output_type": "execute_result"
    }
   ],
   "source": [
    "#verification des changements\n",
    "df.Handcap.unique()"
   ]
  },
  {
   "cell_type": "markdown",
   "id": "bd267191",
   "metadata": {},
   "source": [
    "Nous pouvons aussi supprimer les colonnes **PatientId** et **AppointmentID** qui servent à identifier le rendez-vous sachant qu'ils ne peuvent influer sur la présentation du client au rendez-vous. De même que **Neighbourhood** qui reste unitile si on ne connait pas l'adresse du patient et la distance entre ces 2 lieux."
   ]
  },
  {
   "cell_type": "code",
   "execution_count": 23,
   "id": "362c0fd8",
   "metadata": {},
   "outputs": [],
   "source": [
    "#suppression des 3 colonnes citées\n",
    "df.drop(['PatientId', 'AppointmentID','Neighbourhood'], axis=1, inplace=True)\n"
   ]
  },
  {
   "cell_type": "code",
   "execution_count": 25,
   "id": "c4c3759e",
   "metadata": {},
   "outputs": [
    {
     "data": {
      "text/plain": [
       "Index(['Gender', 'ScheduledDay', 'AppointmentDay', 'Age', 'Scholarship',\n",
       "       'Hipertension', 'Diabetes', 'Alcoholism', 'Handcap', 'SMS_received',\n",
       "       'No-show'],\n",
       "      dtype='object')"
      ]
     },
     "execution_count": 25,
     "metadata": {},
     "output_type": "execute_result"
    }
   ],
   "source": [
    "# vérification suppression\n",
    "df.columns"
   ]
  },
  {
   "cell_type": "code",
   "execution_count": 26,
   "id": "4fb62b79",
   "metadata": {},
   "outputs": [
    {
     "data": {
      "text/plain": [
       "(110527, 11)"
      ]
     },
     "execution_count": 26,
     "metadata": {},
     "output_type": "execute_result"
    }
   ],
   "source": [
    "df.shape"
   ]
  },
  {
   "cell_type": "markdown",
   "id": "eacb6767",
   "metadata": {},
   "source": [
    "df.info"
   ]
  },
  {
   "cell_type": "markdown",
   "id": "751549fc",
   "metadata": {},
   "source": [
    "La colonne **No-show** permet de définir si un utilisateur s'est présenté au rendew-vous ou pas. Nous allons le transformer de sorte qu'il"
   ]
  },
  {
   "cell_type": "code",
   "execution_count": null,
   "id": "5768e70c",
   "metadata": {},
   "outputs": [],
   "source": []
  }
 ],
 "metadata": {
  "kernelspec": {
   "display_name": "Python 3 (ipykernel)",
   "language": "python",
   "name": "python3"
  },
  "language_info": {
   "codemirror_mode": {
    "name": "ipython",
    "version": 3
   },
   "file_extension": ".py",
   "mimetype": "text/x-python",
   "name": "python",
   "nbconvert_exporter": "python",
   "pygments_lexer": "ipython3",
   "version": "3.9.12"
  }
 },
 "nbformat": 4,
 "nbformat_minor": 5
}
