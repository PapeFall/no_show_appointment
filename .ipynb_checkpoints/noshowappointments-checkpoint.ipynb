{
 "cells": [
  {
   "cell_type": "markdown",
   "id": "fa9600de",
   "metadata": {},
   "source": [
    "\n",
    "\n",
    "# Project: Investigate a Dataset - No-show appointments\n",
    "\n",
    "## Table of Contents\n",
    "<ul>\n",
    "<li><a href=\"#intro\">Introduction</a></li>\n",
    "<li><a href=\"#wrangling\">Data Wrangling</a></li>\n",
    "<li><a href=\"#eda\">Exploratory Data Analysis</a></li>\n",
    "<li><a href=\"#conclusions\">Conclusions</a></li>\n",
    "</ul>\n",
    "\n"
   ]
  },
  {
   "cell_type": "markdown",
   "id": "3e05b2af",
   "metadata": {},
   "source": [
    "<a id='intro'></a>\n",
    "## Introduction\n",
    "\n",
    "### Description  de notre jeu de données\n",
    "\n",
    "Notre jeu de données regroupe les informations de plus de 100 000 rendez-vous médicals au Brésil et est orienté sur la question si oui ou non les patients se présente à leur rendez-vous.Ci-dessous est présenté les différentes informations collectées.\n",
    "\n",
    "<ol>\n",
    "    <li> <strong>PatientId</strong>: Identifiant du patient </li>\n",
    "    <li> <strong>AppointmentID</strong>: Identifiant de chaque rendez-vous </li>\n",
    "    <li> <strong>Gender</strong>: Genre ( Homme ou Femme) </li>\n",
    "    <li> <strong>ScheduledDay</strong>: Jour de reservation </li>\n",
    "    <li> <strong>AppointmentDay</strong>: Jour du rendez-vous </li>\n",
    "    <li> <strong>Age</strong>: Age du patient </li>\n",
    "    <li> <strong>Neighbourhood</strong>:Lieu du rendez-vous </li>\n",
    "    <li> <strong>Scholarship</strong>: Support financière (vrai ou faux) </li>\n",
    "    <li> <strong>Hipertension</strong>: Hypertension (vrai ou faux) </li>\n",
    "    <li> <strong>Diabetes</strong>: Diabète (vrai ou faux) </li>\n",
    "    <li> <strong>Alcoholism</strong>: Alcolique (vrai ou faux)</li>\n",
    "    <li> <strong>Handcap</strong>: Handicape (vrai ou faux) </li>\n",
    "    <li> <strong>SMS_received</strong>: SMS de rappel reçu 1 ou plusieurs. </li>\n",
    "    <li> <strong>No-show</strong>: présent au rendez-vous (vrai ou faux) </li>\n",
    "<ol>\n",
    "\n",
    "   \n"
   ]
  },
  {
   "cell_type": "markdown",
   "id": "43451eb0",
   "metadata": {},
   "source": [
    "### Question(s) pour l'analyse\n",
    "    \n",
    "Quels facteurs font qu'un patient peut ne pas se présenter à un rendez-vous? Nous allons essayer de répondre à cette question en explorant notre jeu de données."
   ]
  },
  {
   "cell_type": "code",
   "execution_count": 1,
   "id": "82bd290d",
   "metadata": {},
   "outputs": [],
   "source": [
    "# Importation de packages\n",
    "import numpy as np\n",
    "import pandas as pd\n",
    "import matplotlib.pyplot as plt\n",
    "import seaborn as sns\n",
    "%matplotlib inline"
   ]
  },
  {
   "cell_type": "markdown",
   "id": "71627524",
   "metadata": {},
   "source": [
    "## Data Wrangling"
   ]
  },
  {
   "cell_type": "markdown",
   "id": "11de259d",
   "metadata": {},
   "source": [
    "### Chargement de notre jeu de donnée"
   ]
  },
  {
   "cell_type": "code",
   "execution_count": 2,
   "id": "2d31b601",
   "metadata": {
    "scrolled": true
   },
   "outputs": [
    {
     "data": {
      "text/html": [
       "<div>\n",
       "<style scoped>\n",
       "    .dataframe tbody tr th:only-of-type {\n",
       "        vertical-align: middle;\n",
       "    }\n",
       "\n",
       "    .dataframe tbody tr th {\n",
       "        vertical-align: top;\n",
       "    }\n",
       "\n",
       "    .dataframe thead th {\n",
       "        text-align: right;\n",
       "    }\n",
       "</style>\n",
       "<table border=\"1\" class=\"dataframe\">\n",
       "  <thead>\n",
       "    <tr style=\"text-align: right;\">\n",
       "      <th></th>\n",
       "      <th>PatientId</th>\n",
       "      <th>AppointmentID</th>\n",
       "      <th>Gender</th>\n",
       "      <th>ScheduledDay</th>\n",
       "      <th>AppointmentDay</th>\n",
       "      <th>Age</th>\n",
       "      <th>Neighbourhood</th>\n",
       "      <th>Scholarship</th>\n",
       "      <th>Hipertension</th>\n",
       "      <th>Diabetes</th>\n",
       "      <th>Alcoholism</th>\n",
       "      <th>Handcap</th>\n",
       "      <th>SMS_received</th>\n",
       "      <th>No-show</th>\n",
       "    </tr>\n",
       "  </thead>\n",
       "  <tbody>\n",
       "    <tr>\n",
       "      <th>0</th>\n",
       "      <td>2.987250e+13</td>\n",
       "      <td>5642903</td>\n",
       "      <td>F</td>\n",
       "      <td>2016-04-29T18:38:08Z</td>\n",
       "      <td>2016-04-29T00:00:00Z</td>\n",
       "      <td>62</td>\n",
       "      <td>JARDIM DA PENHA</td>\n",
       "      <td>0</td>\n",
       "      <td>1</td>\n",
       "      <td>0</td>\n",
       "      <td>0</td>\n",
       "      <td>0</td>\n",
       "      <td>0</td>\n",
       "      <td>No</td>\n",
       "    </tr>\n",
       "    <tr>\n",
       "      <th>1</th>\n",
       "      <td>5.589978e+14</td>\n",
       "      <td>5642503</td>\n",
       "      <td>M</td>\n",
       "      <td>2016-04-29T16:08:27Z</td>\n",
       "      <td>2016-04-29T00:00:00Z</td>\n",
       "      <td>56</td>\n",
       "      <td>JARDIM DA PENHA</td>\n",
       "      <td>0</td>\n",
       "      <td>0</td>\n",
       "      <td>0</td>\n",
       "      <td>0</td>\n",
       "      <td>0</td>\n",
       "      <td>0</td>\n",
       "      <td>No</td>\n",
       "    </tr>\n",
       "    <tr>\n",
       "      <th>2</th>\n",
       "      <td>4.262962e+12</td>\n",
       "      <td>5642549</td>\n",
       "      <td>F</td>\n",
       "      <td>2016-04-29T16:19:04Z</td>\n",
       "      <td>2016-04-29T00:00:00Z</td>\n",
       "      <td>62</td>\n",
       "      <td>MATA DA PRAIA</td>\n",
       "      <td>0</td>\n",
       "      <td>0</td>\n",
       "      <td>0</td>\n",
       "      <td>0</td>\n",
       "      <td>0</td>\n",
       "      <td>0</td>\n",
       "      <td>No</td>\n",
       "    </tr>\n",
       "    <tr>\n",
       "      <th>3</th>\n",
       "      <td>8.679512e+11</td>\n",
       "      <td>5642828</td>\n",
       "      <td>F</td>\n",
       "      <td>2016-04-29T17:29:31Z</td>\n",
       "      <td>2016-04-29T00:00:00Z</td>\n",
       "      <td>8</td>\n",
       "      <td>PONTAL DE CAMBURI</td>\n",
       "      <td>0</td>\n",
       "      <td>0</td>\n",
       "      <td>0</td>\n",
       "      <td>0</td>\n",
       "      <td>0</td>\n",
       "      <td>0</td>\n",
       "      <td>No</td>\n",
       "    </tr>\n",
       "    <tr>\n",
       "      <th>4</th>\n",
       "      <td>8.841186e+12</td>\n",
       "      <td>5642494</td>\n",
       "      <td>F</td>\n",
       "      <td>2016-04-29T16:07:23Z</td>\n",
       "      <td>2016-04-29T00:00:00Z</td>\n",
       "      <td>56</td>\n",
       "      <td>JARDIM DA PENHA</td>\n",
       "      <td>0</td>\n",
       "      <td>1</td>\n",
       "      <td>1</td>\n",
       "      <td>0</td>\n",
       "      <td>0</td>\n",
       "      <td>0</td>\n",
       "      <td>No</td>\n",
       "    </tr>\n",
       "  </tbody>\n",
       "</table>\n",
       "</div>"
      ],
      "text/plain": [
       "      PatientId  AppointmentID Gender          ScheduledDay  \\\n",
       "0  2.987250e+13        5642903      F  2016-04-29T18:38:08Z   \n",
       "1  5.589978e+14        5642503      M  2016-04-29T16:08:27Z   \n",
       "2  4.262962e+12        5642549      F  2016-04-29T16:19:04Z   \n",
       "3  8.679512e+11        5642828      F  2016-04-29T17:29:31Z   \n",
       "4  8.841186e+12        5642494      F  2016-04-29T16:07:23Z   \n",
       "\n",
       "         AppointmentDay  Age      Neighbourhood  Scholarship  Hipertension  \\\n",
       "0  2016-04-29T00:00:00Z   62    JARDIM DA PENHA            0             1   \n",
       "1  2016-04-29T00:00:00Z   56    JARDIM DA PENHA            0             0   \n",
       "2  2016-04-29T00:00:00Z   62      MATA DA PRAIA            0             0   \n",
       "3  2016-04-29T00:00:00Z    8  PONTAL DE CAMBURI            0             0   \n",
       "4  2016-04-29T00:00:00Z   56    JARDIM DA PENHA            0             1   \n",
       "\n",
       "   Diabetes  Alcoholism  Handcap  SMS_received No-show  \n",
       "0         0           0        0             0      No  \n",
       "1         0           0        0             0      No  \n",
       "2         0           0        0             0      No  \n",
       "3         0           0        0             0      No  \n",
       "4         1           0        0             0      No  "
      ]
     },
     "execution_count": 2,
     "metadata": {},
     "output_type": "execute_result"
    }
   ],
   "source": [
    "df = pd.read_csv(\"KaggleV2-May-2016.csv\",sep=\",\")\n",
    "# affichage des 5 premières lignes de notre jeu de données\n",
    "df.head()"
   ]
  },
  {
   "cell_type": "markdown",
   "id": "c1844cd1",
   "metadata": {},
   "source": [
    "### Liste des colonnes et leur type"
   ]
  },
  {
   "cell_type": "code",
   "execution_count": 3,
   "id": "9e9e3cf4",
   "metadata": {},
   "outputs": [
    {
     "name": "stdout",
     "output_type": "stream",
     "text": [
      "<class 'pandas.core.frame.DataFrame'>\n",
      "RangeIndex: 110527 entries, 0 to 110526\n",
      "Data columns (total 14 columns):\n",
      " #   Column          Non-Null Count   Dtype  \n",
      "---  ------          --------------   -----  \n",
      " 0   PatientId       110527 non-null  float64\n",
      " 1   AppointmentID   110527 non-null  int64  \n",
      " 2   Gender          110527 non-null  object \n",
      " 3   ScheduledDay    110527 non-null  object \n",
      " 4   AppointmentDay  110527 non-null  object \n",
      " 5   Age             110527 non-null  int64  \n",
      " 6   Neighbourhood   110527 non-null  object \n",
      " 7   Scholarship     110527 non-null  int64  \n",
      " 8   Hipertension    110527 non-null  int64  \n",
      " 9   Diabetes        110527 non-null  int64  \n",
      " 10  Alcoholism      110527 non-null  int64  \n",
      " 11  Handcap         110527 non-null  int64  \n",
      " 12  SMS_received    110527 non-null  int64  \n",
      " 13  No-show         110527 non-null  object \n",
      "dtypes: float64(1), int64(8), object(5)\n",
      "memory usage: 11.8+ MB\n"
     ]
    }
   ],
   "source": [
    "df.info()"
   ]
  },
  {
   "cell_type": "markdown",
   "id": "af06d1b5",
   "metadata": {},
   "source": [
    "### Les dimensions de notre jeu de données"
   ]
  },
  {
   "cell_type": "code",
   "execution_count": 4,
   "id": "748dbd87",
   "metadata": {},
   "outputs": [
    {
     "data": {
      "text/plain": [
       "(110527, 14)"
      ]
     },
     "execution_count": 4,
     "metadata": {},
     "output_type": "execute_result"
    }
   ],
   "source": [
    "df.shape"
   ]
  },
  {
   "cell_type": "markdown",
   "id": "2c3f84d7",
   "metadata": {},
   "source": [
    "### Le nombre de valeur manquante\n",
    "Nous cherchons si notre dataset contient des valeurs manquantes que nous nettoyeront par la suite."
   ]
  },
  {
   "cell_type": "code",
   "execution_count": 5,
   "id": "fc602439",
   "metadata": {},
   "outputs": [
    {
     "data": {
      "text/plain": [
       "PatientId         0\n",
       "AppointmentID     0\n",
       "Gender            0\n",
       "ScheduledDay      0\n",
       "AppointmentDay    0\n",
       "Age               0\n",
       "Neighbourhood     0\n",
       "Scholarship       0\n",
       "Hipertension      0\n",
       "Diabetes          0\n",
       "Alcoholism        0\n",
       "Handcap           0\n",
       "SMS_received      0\n",
       "No-show           0\n",
       "dtype: int64"
      ]
     },
     "execution_count": 5,
     "metadata": {},
     "output_type": "execute_result"
    }
   ],
   "source": [
    "df.isnull().sum()"
   ]
  },
  {
   "cell_type": "markdown",
   "id": "afe03081",
   "metadata": {},
   "source": [
    "### Le nombre de ligne dupliqué"
   ]
  },
  {
   "cell_type": "code",
   "execution_count": 6,
   "id": "3d25654a",
   "metadata": {},
   "outputs": [
    {
     "data": {
      "text/plain": [
       "0"
      ]
     },
     "execution_count": 6,
     "metadata": {},
     "output_type": "execute_result"
    }
   ],
   "source": [
    "df.duplicated().sum()"
   ]
  },
  {
   "cell_type": "markdown",
   "id": "5af92fdf",
   "metadata": {},
   "source": [
    "Notre jeu de données ne contient ni de valeur manquante ni de ligne dupliquée."
   ]
  },
  {
   "cell_type": "code",
   "execution_count": 7,
   "id": "33111db7",
   "metadata": {},
   "outputs": [
    {
     "data": {
      "text/plain": [
       "PatientId          62299\n",
       "AppointmentID     110527\n",
       "Gender                 2\n",
       "ScheduledDay      103549\n",
       "AppointmentDay        27\n",
       "Age                  104\n",
       "Neighbourhood         81\n",
       "Scholarship            2\n",
       "Hipertension           2\n",
       "Diabetes               2\n",
       "Alcoholism             2\n",
       "Handcap                5\n",
       "SMS_received           2\n",
       "No-show                2\n",
       "dtype: int64"
      ]
     },
     "execution_count": 7,
     "metadata": {},
     "output_type": "execute_result"
    }
   ],
   "source": [
    "df.nunique()"
   ]
  },
  {
   "cell_type": "markdown",
   "id": "0bc22547",
   "metadata": {},
   "source": [
    "En vérifiant le nombre de valeurs uniques de nos données, nous constatont qu'ils existe des patients ayant programmé programmer plusieurs rendez-vous. Et que handcap peut contenir 5 valeurs différentes."
   ]
  },
  {
   "cell_type": "code",
   "execution_count": 8,
   "id": "7d4c20f8",
   "metadata": {},
   "outputs": [
    {
     "data": {
      "text/plain": [
       "array([0, 1, 2, 3, 4], dtype=int64)"
      ]
     },
     "execution_count": 8,
     "metadata": {},
     "output_type": "execute_result"
    }
   ],
   "source": [
    "df.Handcap.unique()"
   ]
  },
  {
   "cell_type": "markdown",
   "id": "fbc91766",
   "metadata": {},
   "source": [
    ">En étudiant la description de notre dataset, nous avons définit Handcap comme pouvant prendre les valeurs vrai(1) ou faux(0). Dans cette exploration, nous constatons qu'il peut en prendre plus. N'ayant donc pas les précisions sur les valeurs supplémentaires [2,3,4], à supposer qu'elles puissent indiquer sur le type d'handicape atteint par le patient, nous allons donc les remplacer par 1 pour ainsi dire que le patient est atteint d'handicap."
   ]
  },
  {
   "cell_type": "code",
   "execution_count": 9,
   "id": "cf3020c3",
   "metadata": {},
   "outputs": [],
   "source": [
    "# remplacement des valeurs de Handcap >=2 par 1\n",
    "def handcapFunc(x):\n",
    "    return 1 if (x >= 1) else 0\n",
    "    \n",
    "df[\"Handcap\"]=df[\"Handcap\"].apply(handcapFunc)"
   ]
  },
  {
   "cell_type": "code",
   "execution_count": 10,
   "id": "d513d310",
   "metadata": {},
   "outputs": [
    {
     "data": {
      "text/plain": [
       "array([0, 1], dtype=int64)"
      ]
     },
     "execution_count": 10,
     "metadata": {},
     "output_type": "execute_result"
    }
   ],
   "source": [
    "#verification des changements\n",
    "df.Handcap.unique()"
   ]
  },
  {
   "cell_type": "markdown",
   "id": "82cb9e3a",
   "metadata": {},
   "source": [
    "Nous pouvons aussi supprimer les colonnes **PatientId** et **AppointmentID** qui servent à identifier le rendez-vous sachant qu'ils ne peuvent influer sur la présentation du client au rendez-vous. De même que **Neighbourhood** qui reste unitile si on ne connait pas l'adresse du patient et la distance entre ces 2 lieux."
   ]
  },
  {
   "cell_type": "code",
   "execution_count": 11,
   "id": "5af8caf7",
   "metadata": {},
   "outputs": [],
   "source": [
    "#suppression des 3 colonnes citées\n",
    "df.drop(['PatientId', 'AppointmentID','Neighbourhood'], axis=1, inplace=True)\n"
   ]
  },
  {
   "cell_type": "code",
   "execution_count": 12,
   "id": "0bcc8a99",
   "metadata": {},
   "outputs": [
    {
     "data": {
      "text/plain": [
       "Index(['Gender', 'ScheduledDay', 'AppointmentDay', 'Age', 'Scholarship',\n",
       "       'Hipertension', 'Diabetes', 'Alcoholism', 'Handcap', 'SMS_received',\n",
       "       'No-show'],\n",
       "      dtype='object')"
      ]
     },
     "execution_count": 12,
     "metadata": {},
     "output_type": "execute_result"
    }
   ],
   "source": [
    "# vérification suppression\n",
    "df.columns"
   ]
  },
  {
   "cell_type": "code",
   "execution_count": 13,
   "id": "4d518604",
   "metadata": {},
   "outputs": [
    {
     "data": {
      "text/plain": [
       "(110527, 11)"
      ]
     },
     "execution_count": 13,
     "metadata": {},
     "output_type": "execute_result"
    }
   ],
   "source": [
    "df.shape"
   ]
  },
  {
   "cell_type": "code",
   "execution_count": 14,
   "id": "ac4ff797",
   "metadata": {},
   "outputs": [
    {
     "name": "stdout",
     "output_type": "stream",
     "text": [
      "<class 'pandas.core.frame.DataFrame'>\n",
      "RangeIndex: 110527 entries, 0 to 110526\n",
      "Data columns (total 11 columns):\n",
      " #   Column          Non-Null Count   Dtype \n",
      "---  ------          --------------   ----- \n",
      " 0   Gender          110527 non-null  object\n",
      " 1   ScheduledDay    110527 non-null  object\n",
      " 2   AppointmentDay  110527 non-null  object\n",
      " 3   Age             110527 non-null  int64 \n",
      " 4   Scholarship     110527 non-null  int64 \n",
      " 5   Hipertension    110527 non-null  int64 \n",
      " 6   Diabetes        110527 non-null  int64 \n",
      " 7   Alcoholism      110527 non-null  int64 \n",
      " 8   Handcap         110527 non-null  int64 \n",
      " 9   SMS_received    110527 non-null  int64 \n",
      " 10  No-show         110527 non-null  object\n",
      "dtypes: int64(7), object(4)\n",
      "memory usage: 9.3+ MB\n"
     ]
    }
   ],
   "source": [
    "df.info()"
   ]
  },
  {
   "cell_type": "markdown",
   "id": "86a44f50",
   "metadata": {},
   "source": [
    "La colonne **No-show** permet de définir si un utilisateur s'est présenté au rendew-vous ou pas. Nous allons le transformer de sorte qu'il puissent prendre les valeurs 1 ou 0 en vue d'harmoniser notre ensemble de données pour les valeurs binaires et éviter les erreurs de formattage des chaines (ex: Yes,yes)."
   ]
  },
  {
   "cell_type": "code",
   "execution_count": 15,
   "id": "787ab19f",
   "metadata": {},
   "outputs": [],
   "source": [
    "#renommons la colonne No-show pour une meilleur manipulation\n",
    "df.rename(columns={\"No-show\":\"no_show\"},inplace=True)"
   ]
  },
  {
   "cell_type": "code",
   "execution_count": 16,
   "id": "5db39a9a",
   "metadata": {},
   "outputs": [
    {
     "data": {
      "text/plain": [
       "Gender                 2\n",
       "ScheduledDay      103549\n",
       "AppointmentDay        27\n",
       "Age                  104\n",
       "Scholarship            2\n",
       "Hipertension           2\n",
       "Diabetes               2\n",
       "Alcoholism             2\n",
       "Handcap                2\n",
       "SMS_received           2\n",
       "no_show                2\n",
       "dtype: int64"
      ]
     },
     "execution_count": 16,
     "metadata": {},
     "output_type": "execute_result"
    }
   ],
   "source": [
    "df.nunique()"
   ]
  },
  {
   "cell_type": "code",
   "execution_count": 17,
   "id": "7564ebb9",
   "metadata": {},
   "outputs": [
    {
     "data": {
      "text/plain": [
       "array(['No', 'Yes'], dtype=object)"
      ]
     },
     "execution_count": 17,
     "metadata": {},
     "output_type": "execute_result"
    }
   ],
   "source": [
    "df.no_show.unique()"
   ]
  },
  {
   "cell_type": "code",
   "execution_count": 18,
   "id": "61c73ef1",
   "metadata": {},
   "outputs": [],
   "source": [
    "df[\"no_show\"]=df.no_show.eq(\"Yes\").mul(1)"
   ]
  },
  {
   "cell_type": "code",
   "execution_count": 19,
   "id": "2aa70d1e",
   "metadata": {},
   "outputs": [
    {
     "data": {
      "text/plain": [
       "array([0, 1])"
      ]
     },
     "execution_count": 19,
     "metadata": {},
     "output_type": "execute_result"
    }
   ],
   "source": [
    "df.no_show.unique()"
   ]
  },
  {
   "cell_type": "code",
   "execution_count": 20,
   "id": "ed766bac",
   "metadata": {
    "scrolled": false
   },
   "outputs": [
    {
     "data": {
      "text/html": [
       "<div>\n",
       "<style scoped>\n",
       "    .dataframe tbody tr th:only-of-type {\n",
       "        vertical-align: middle;\n",
       "    }\n",
       "\n",
       "    .dataframe tbody tr th {\n",
       "        vertical-align: top;\n",
       "    }\n",
       "\n",
       "    .dataframe thead th {\n",
       "        text-align: right;\n",
       "    }\n",
       "</style>\n",
       "<table border=\"1\" class=\"dataframe\">\n",
       "  <thead>\n",
       "    <tr style=\"text-align: right;\">\n",
       "      <th></th>\n",
       "      <th>Age</th>\n",
       "      <th>Scholarship</th>\n",
       "      <th>Hipertension</th>\n",
       "      <th>Diabetes</th>\n",
       "      <th>Alcoholism</th>\n",
       "      <th>Handcap</th>\n",
       "      <th>SMS_received</th>\n",
       "      <th>no_show</th>\n",
       "    </tr>\n",
       "  </thead>\n",
       "  <tbody>\n",
       "    <tr>\n",
       "      <th>count</th>\n",
       "      <td>110527.000000</td>\n",
       "      <td>110527.000000</td>\n",
       "      <td>110527.000000</td>\n",
       "      <td>110527.000000</td>\n",
       "      <td>110527.000000</td>\n",
       "      <td>110527.000000</td>\n",
       "      <td>110527.000000</td>\n",
       "      <td>110527.000000</td>\n",
       "    </tr>\n",
       "    <tr>\n",
       "      <th>mean</th>\n",
       "      <td>37.088874</td>\n",
       "      <td>0.098266</td>\n",
       "      <td>0.197246</td>\n",
       "      <td>0.071865</td>\n",
       "      <td>0.030400</td>\n",
       "      <td>0.020276</td>\n",
       "      <td>0.321026</td>\n",
       "      <td>0.201933</td>\n",
       "    </tr>\n",
       "    <tr>\n",
       "      <th>std</th>\n",
       "      <td>23.110205</td>\n",
       "      <td>0.297675</td>\n",
       "      <td>0.397921</td>\n",
       "      <td>0.258265</td>\n",
       "      <td>0.171686</td>\n",
       "      <td>0.140942</td>\n",
       "      <td>0.466873</td>\n",
       "      <td>0.401444</td>\n",
       "    </tr>\n",
       "    <tr>\n",
       "      <th>min</th>\n",
       "      <td>-1.000000</td>\n",
       "      <td>0.000000</td>\n",
       "      <td>0.000000</td>\n",
       "      <td>0.000000</td>\n",
       "      <td>0.000000</td>\n",
       "      <td>0.000000</td>\n",
       "      <td>0.000000</td>\n",
       "      <td>0.000000</td>\n",
       "    </tr>\n",
       "    <tr>\n",
       "      <th>25%</th>\n",
       "      <td>18.000000</td>\n",
       "      <td>0.000000</td>\n",
       "      <td>0.000000</td>\n",
       "      <td>0.000000</td>\n",
       "      <td>0.000000</td>\n",
       "      <td>0.000000</td>\n",
       "      <td>0.000000</td>\n",
       "      <td>0.000000</td>\n",
       "    </tr>\n",
       "    <tr>\n",
       "      <th>50%</th>\n",
       "      <td>37.000000</td>\n",
       "      <td>0.000000</td>\n",
       "      <td>0.000000</td>\n",
       "      <td>0.000000</td>\n",
       "      <td>0.000000</td>\n",
       "      <td>0.000000</td>\n",
       "      <td>0.000000</td>\n",
       "      <td>0.000000</td>\n",
       "    </tr>\n",
       "    <tr>\n",
       "      <th>75%</th>\n",
       "      <td>55.000000</td>\n",
       "      <td>0.000000</td>\n",
       "      <td>0.000000</td>\n",
       "      <td>0.000000</td>\n",
       "      <td>0.000000</td>\n",
       "      <td>0.000000</td>\n",
       "      <td>1.000000</td>\n",
       "      <td>0.000000</td>\n",
       "    </tr>\n",
       "    <tr>\n",
       "      <th>max</th>\n",
       "      <td>115.000000</td>\n",
       "      <td>1.000000</td>\n",
       "      <td>1.000000</td>\n",
       "      <td>1.000000</td>\n",
       "      <td>1.000000</td>\n",
       "      <td>1.000000</td>\n",
       "      <td>1.000000</td>\n",
       "      <td>1.000000</td>\n",
       "    </tr>\n",
       "  </tbody>\n",
       "</table>\n",
       "</div>"
      ],
      "text/plain": [
       "                 Age    Scholarship   Hipertension       Diabetes  \\\n",
       "count  110527.000000  110527.000000  110527.000000  110527.000000   \n",
       "mean       37.088874       0.098266       0.197246       0.071865   \n",
       "std        23.110205       0.297675       0.397921       0.258265   \n",
       "min        -1.000000       0.000000       0.000000       0.000000   \n",
       "25%        18.000000       0.000000       0.000000       0.000000   \n",
       "50%        37.000000       0.000000       0.000000       0.000000   \n",
       "75%        55.000000       0.000000       0.000000       0.000000   \n",
       "max       115.000000       1.000000       1.000000       1.000000   \n",
       "\n",
       "          Alcoholism        Handcap   SMS_received        no_show  \n",
       "count  110527.000000  110527.000000  110527.000000  110527.000000  \n",
       "mean        0.030400       0.020276       0.321026       0.201933  \n",
       "std         0.171686       0.140942       0.466873       0.401444  \n",
       "min         0.000000       0.000000       0.000000       0.000000  \n",
       "25%         0.000000       0.000000       0.000000       0.000000  \n",
       "50%         0.000000       0.000000       0.000000       0.000000  \n",
       "75%         0.000000       0.000000       1.000000       0.000000  \n",
       "max         1.000000       1.000000       1.000000       1.000000  "
      ]
     },
     "execution_count": 20,
     "metadata": {},
     "output_type": "execute_result"
    }
   ],
   "source": [
    "df.describe()\n"
   ]
  },
  {
   "cell_type": "code",
   "execution_count": 21,
   "id": "06b7dfca",
   "metadata": {},
   "outputs": [
    {
     "data": {
      "text/html": [
       "<div>\n",
       "<style scoped>\n",
       "    .dataframe tbody tr th:only-of-type {\n",
       "        vertical-align: middle;\n",
       "    }\n",
       "\n",
       "    .dataframe tbody tr th {\n",
       "        vertical-align: top;\n",
       "    }\n",
       "\n",
       "    .dataframe thead th {\n",
       "        text-align: right;\n",
       "    }\n",
       "</style>\n",
       "<table border=\"1\" class=\"dataframe\">\n",
       "  <thead>\n",
       "    <tr style=\"text-align: right;\">\n",
       "      <th></th>\n",
       "      <th>Gender</th>\n",
       "      <th>ScheduledDay</th>\n",
       "      <th>AppointmentDay</th>\n",
       "      <th>Age</th>\n",
       "      <th>Scholarship</th>\n",
       "      <th>Hipertension</th>\n",
       "      <th>Diabetes</th>\n",
       "      <th>Alcoholism</th>\n",
       "      <th>Handcap</th>\n",
       "      <th>SMS_received</th>\n",
       "      <th>no_show</th>\n",
       "    </tr>\n",
       "  </thead>\n",
       "  <tbody>\n",
       "    <tr>\n",
       "      <th>99832</th>\n",
       "      <td>F</td>\n",
       "      <td>2016-06-06T08:58:13Z</td>\n",
       "      <td>2016-06-06T00:00:00Z</td>\n",
       "      <td>-1</td>\n",
       "      <td>0</td>\n",
       "      <td>0</td>\n",
       "      <td>0</td>\n",
       "      <td>0</td>\n",
       "      <td>0</td>\n",
       "      <td>0</td>\n",
       "      <td>0</td>\n",
       "    </tr>\n",
       "  </tbody>\n",
       "</table>\n",
       "</div>"
      ],
      "text/plain": [
       "      Gender          ScheduledDay        AppointmentDay  Age  Scholarship  \\\n",
       "99832      F  2016-06-06T08:58:13Z  2016-06-06T00:00:00Z   -1            0   \n",
       "\n",
       "       Hipertension  Diabetes  Alcoholism  Handcap  SMS_received  no_show  \n",
       "99832             0         0           0        0             0        0  "
      ]
     },
     "execution_count": 21,
     "metadata": {},
     "output_type": "execute_result"
    }
   ],
   "source": [
    "df.query(\"Age < 0 \")"
   ]
  },
  {
   "cell_type": "markdown",
   "id": "7155fd83",
   "metadata": {},
   "source": [
    "Nous constatons que notre colonne Age contient une valeur abérrante **-1** et ça ne concerne qu'une ligne. Nous allons donc la supprimer."
   ]
  },
  {
   "cell_type": "code",
   "execution_count": 22,
   "id": "fb72eddf",
   "metadata": {},
   "outputs": [],
   "source": [
    "df.drop(99832,axis=0,inplace=True)"
   ]
  },
  {
   "cell_type": "code",
   "execution_count": 23,
   "id": "447cad69",
   "metadata": {},
   "outputs": [
    {
     "data": {
      "text/html": [
       "<div>\n",
       "<style scoped>\n",
       "    .dataframe tbody tr th:only-of-type {\n",
       "        vertical-align: middle;\n",
       "    }\n",
       "\n",
       "    .dataframe tbody tr th {\n",
       "        vertical-align: top;\n",
       "    }\n",
       "\n",
       "    .dataframe thead th {\n",
       "        text-align: right;\n",
       "    }\n",
       "</style>\n",
       "<table border=\"1\" class=\"dataframe\">\n",
       "  <thead>\n",
       "    <tr style=\"text-align: right;\">\n",
       "      <th></th>\n",
       "      <th>Gender</th>\n",
       "      <th>ScheduledDay</th>\n",
       "      <th>AppointmentDay</th>\n",
       "      <th>Age</th>\n",
       "      <th>Scholarship</th>\n",
       "      <th>Hipertension</th>\n",
       "      <th>Diabetes</th>\n",
       "      <th>Alcoholism</th>\n",
       "      <th>Handcap</th>\n",
       "      <th>SMS_received</th>\n",
       "      <th>no_show</th>\n",
       "    </tr>\n",
       "  </thead>\n",
       "  <tbody>\n",
       "  </tbody>\n",
       "</table>\n",
       "</div>"
      ],
      "text/plain": [
       "Empty DataFrame\n",
       "Columns: [Gender, ScheduledDay, AppointmentDay, Age, Scholarship, Hipertension, Diabetes, Alcoholism, Handcap, SMS_received, no_show]\n",
       "Index: []"
      ]
     },
     "execution_count": 23,
     "metadata": {},
     "output_type": "execute_result"
    }
   ],
   "source": [
    "#vérification suppression\n",
    "df.query(\"Age < 0 \")"
   ]
  },
  {
   "cell_type": "markdown",
   "id": "9713f763",
   "metadata": {},
   "source": [
    "En observant la colonne **ScheduledDay**, nous constatons qu'il est composé de la date et de l'heure de la réservation contrairement à **AppointmentDay** qui ne contient que la date. Nous allons donc rajouter une nouvelle colonne **ScheduledHour** pour mieux explorer notre ensemble de données."
   ]
  },
  {
   "cell_type": "code",
   "execution_count": 24,
   "id": "119817d9",
   "metadata": {},
   "outputs": [],
   "source": [
    "#creation de la nouvelle colonne ScheduledHour\n",
    "df[\"ScheduledHour\"] = pd.to_datetime(df[\"ScheduledDay\"]).dt.time\n",
    "# suppression de l'heure dans ScheduledDay et AppointmentDay\n",
    "df[\"ScheduledDay\"] = pd.to_datetime(df[\"ScheduledDay\"]).dt.date\n",
    "df[\"AppointmentDay\"] = pd.to_datetime(df[\"AppointmentDay\"]).dt.date"
   ]
  },
  {
   "cell_type": "markdown",
   "id": "e9ca4eaa",
   "metadata": {},
   "source": [
    "Nous pouvons aussi ajouter une autre colonne nous renseignant sur le nombre de jour entre la date de réservation et le jour du rendez-vous."
   ]
  },
  {
   "cell_type": "code",
   "execution_count": 45,
   "id": "c26a737e",
   "metadata": {},
   "outputs": [],
   "source": [
    " df[\"DayDiff\"] = df[\"AppointmentDay\"].sub(df[\"ScheduledDay\"],axis=0)\n",
    "#changement du type en int\n",
    "df[\"DayDiff\"] = df[\"DayDiff\"].dt.days.astype(int)"
   ]
  },
  {
   "cell_type": "code",
   "execution_count": 48,
   "id": "dde6d8a5",
   "metadata": {
    "scrolled": true
   },
   "outputs": [
    {
     "data": {
      "text/html": [
       "<div>\n",
       "<style scoped>\n",
       "    .dataframe tbody tr th:only-of-type {\n",
       "        vertical-align: middle;\n",
       "    }\n",
       "\n",
       "    .dataframe tbody tr th {\n",
       "        vertical-align: top;\n",
       "    }\n",
       "\n",
       "    .dataframe thead th {\n",
       "        text-align: right;\n",
       "    }\n",
       "</style>\n",
       "<table border=\"1\" class=\"dataframe\">\n",
       "  <thead>\n",
       "    <tr style=\"text-align: right;\">\n",
       "      <th></th>\n",
       "      <th>Gender</th>\n",
       "      <th>ScheduledDay</th>\n",
       "      <th>AppointmentDay</th>\n",
       "      <th>Age</th>\n",
       "      <th>Scholarship</th>\n",
       "      <th>Hipertension</th>\n",
       "      <th>Diabetes</th>\n",
       "      <th>Alcoholism</th>\n",
       "      <th>Handcap</th>\n",
       "      <th>SMS_received</th>\n",
       "      <th>no_show</th>\n",
       "      <th>ScheduledHour</th>\n",
       "      <th>DayDiff</th>\n",
       "    </tr>\n",
       "  </thead>\n",
       "  <tbody>\n",
       "    <tr>\n",
       "      <th>27033</th>\n",
       "      <td>M</td>\n",
       "      <td>2016-05-10</td>\n",
       "      <td>2016-05-09</td>\n",
       "      <td>38</td>\n",
       "      <td>0</td>\n",
       "      <td>0</td>\n",
       "      <td>0</td>\n",
       "      <td>0</td>\n",
       "      <td>1</td>\n",
       "      <td>0</td>\n",
       "      <td>1</td>\n",
       "      <td>10:51:53</td>\n",
       "      <td>-1</td>\n",
       "    </tr>\n",
       "    <tr>\n",
       "      <th>55226</th>\n",
       "      <td>F</td>\n",
       "      <td>2016-05-18</td>\n",
       "      <td>2016-05-17</td>\n",
       "      <td>19</td>\n",
       "      <td>0</td>\n",
       "      <td>0</td>\n",
       "      <td>0</td>\n",
       "      <td>0</td>\n",
       "      <td>1</td>\n",
       "      <td>0</td>\n",
       "      <td>1</td>\n",
       "      <td>14:50:41</td>\n",
       "      <td>-1</td>\n",
       "    </tr>\n",
       "    <tr>\n",
       "      <th>64175</th>\n",
       "      <td>F</td>\n",
       "      <td>2016-05-05</td>\n",
       "      <td>2016-05-04</td>\n",
       "      <td>22</td>\n",
       "      <td>0</td>\n",
       "      <td>0</td>\n",
       "      <td>0</td>\n",
       "      <td>0</td>\n",
       "      <td>0</td>\n",
       "      <td>0</td>\n",
       "      <td>1</td>\n",
       "      <td>13:43:58</td>\n",
       "      <td>-1</td>\n",
       "    </tr>\n",
       "    <tr>\n",
       "      <th>71533</th>\n",
       "      <td>F</td>\n",
       "      <td>2016-05-11</td>\n",
       "      <td>2016-05-05</td>\n",
       "      <td>81</td>\n",
       "      <td>0</td>\n",
       "      <td>0</td>\n",
       "      <td>0</td>\n",
       "      <td>0</td>\n",
       "      <td>0</td>\n",
       "      <td>0</td>\n",
       "      <td>1</td>\n",
       "      <td>13:49:20</td>\n",
       "      <td>-6</td>\n",
       "    </tr>\n",
       "    <tr>\n",
       "      <th>72362</th>\n",
       "      <td>M</td>\n",
       "      <td>2016-05-04</td>\n",
       "      <td>2016-05-03</td>\n",
       "      <td>7</td>\n",
       "      <td>0</td>\n",
       "      <td>0</td>\n",
       "      <td>0</td>\n",
       "      <td>0</td>\n",
       "      <td>0</td>\n",
       "      <td>0</td>\n",
       "      <td>1</td>\n",
       "      <td>06:50:57</td>\n",
       "      <td>-1</td>\n",
       "    </tr>\n",
       "  </tbody>\n",
       "</table>\n",
       "</div>"
      ],
      "text/plain": [
       "      Gender ScheduledDay AppointmentDay  Age  Scholarship  Hipertension  \\\n",
       "27033      M   2016-05-10     2016-05-09   38            0             0   \n",
       "55226      F   2016-05-18     2016-05-17   19            0             0   \n",
       "64175      F   2016-05-05     2016-05-04   22            0             0   \n",
       "71533      F   2016-05-11     2016-05-05   81            0             0   \n",
       "72362      M   2016-05-04     2016-05-03    7            0             0   \n",
       "\n",
       "       Diabetes  Alcoholism  Handcap  SMS_received  no_show ScheduledHour  \\\n",
       "27033         0           0        1             0        1      10:51:53   \n",
       "55226         0           0        1             0        1      14:50:41   \n",
       "64175         0           0        0             0        1      13:43:58   \n",
       "71533         0           0        0             0        1      13:49:20   \n",
       "72362         0           0        0             0        1      06:50:57   \n",
       "\n",
       "       DayDiff  \n",
       "27033       -1  \n",
       "55226       -1  \n",
       "64175       -1  \n",
       "71533       -6  \n",
       "72362       -1  "
      ]
     },
     "execution_count": 48,
     "metadata": {},
     "output_type": "execute_result"
    }
   ],
   "source": [
    "#vérification\n",
    "df.query(\"DayDiff < 0\")"
   ]
  },
  {
   "cell_type": "code",
   "execution_count": 27,
   "id": "7c21c4e8",
   "metadata": {},
   "outputs": [
    {
     "data": {
      "text/plain": [
       "(38562, 13)"
      ]
     },
     "execution_count": 27,
     "metadata": {},
     "output_type": "execute_result"
    }
   ],
   "source": [
    "df.query(\"ScheduledDay == AppointmentDay\").shape"
   ]
  },
  {
   "cell_type": "markdown",
   "id": "f947bf02",
   "metadata": {},
   "source": [
    "Maintenant ne que nous venons de nettoyer notre ensemble de données, nous allons passer à l'exploration."
   ]
  },
  {
   "cell_type": "markdown",
   "id": "fe77cb90",
   "metadata": {},
   "source": [
    "# Exploration de données"
   ]
  },
  {
   "cell_type": "markdown",
   "id": "aad6a12d",
   "metadata": {},
   "source": [
    "Examen de la colonne **no_show** qui est notre **target**"
   ]
  },
  {
   "cell_type": "code",
   "execution_count": 28,
   "id": "0ac43a0d",
   "metadata": {},
   "outputs": [
    {
     "data": {
      "text/plain": [
       "0    0.798066\n",
       "1    0.201934\n",
       "Name: no_show, dtype: float64"
      ]
     },
     "execution_count": 28,
     "metadata": {},
     "output_type": "execute_result"
    }
   ],
   "source": [
    "df[\"no_show\"].value_counts(normalize=True)"
   ]
  },
  {
   "cell_type": "code",
   "execution_count": 29,
   "id": "df0527ab",
   "metadata": {},
   "outputs": [
    {
     "data": {
      "text/plain": [
       "<AxesSubplot:ylabel='no_show'>"
      ]
     },
     "execution_count": 29,
     "metadata": {},
     "output_type": "execute_result"
    },
    {
     "data": {
      "image/png": "[encoded data removed]",
      "text/plain": [
       "<Figure size 432x288 with 1 Axes>"
      ]
     },
     "metadata": {},
     "output_type": "display_data"
    }
   ],
   "source": [
    "plt.figure()\n",
    "df[\"no_show\"].value_counts().plot.pie()"
   ]
  },
  {
   "cell_type": "markdown",
   "id": "2cc21316",
   "metadata": {},
   "source": [
    ">20% contre 80% des rendez-vous sont respectés"
   ]
  },
  {
   "cell_type": "markdown",
   "id": "3cf4cfd3",
   "metadata": {},
   "source": [
    "### Histogramme de la variable continue Age"
   ]
  },
  {
   "cell_type": "code",
   "execution_count": 51,
   "id": "1af9b620",
   "metadata": {},
   "outputs": [
    {
     "data": {
      "text/plain": [
       "<AxesSubplot:xlabel='Age', ylabel='Count'>"
      ]
     },
     "execution_count": 51,
     "metadata": {},
     "output_type": "execute_result"
    },
    {
     "data": {
      "image/png": "[encoded data removed]",
      "text/plain": [
       "<Figure size 432x288 with 1 Axes>"
      ]
     },
     "metadata": {
      "needs_background": "light"
     },
     "output_type": "display_data"
    }
   ],
   "source": [
    "plt.figure()\n",
    "sns.histplot(df[\"Age\"])\n"
   ]
  },
  {
   "cell_type": "markdown",
   "id": "36bd4be8",
   "metadata": {},
   "source": [
    "### Histogramme de la variable continue DayDiff"
   ]
  },
  {
   "cell_type": "code",
   "execution_count": 53,
   "id": "460e1b91",
   "metadata": {
    "scrolled": true
   },
   "outputs": [
    {
     "data": {
      "text/plain": [
       "<AxesSubplot:xlabel='DayDiff', ylabel='Count'>"
      ]
     },
     "execution_count": 53,
     "metadata": {},
     "output_type": "execute_result"
    },
    {
     "data": {
      "image/png": "[encoded data removed]",
      "text/plain": [
       "<Figure size 1800x1080 with 1 Axes>"
      ]
     },
     "metadata": {
      "needs_background": "light"
     },
     "output_type": "display_data"
    }
   ],
   "source": [
    "plt.figure(figsize=(25,15))\n",
    "sns.histplot(df[\"DayDiff\"])"
   ]
  },
  {
   "cell_type": "markdown",
   "id": "0452a082",
   "metadata": {},
   "source": [
    "> Un très grand nombre de nos données concerne les rendez-vous prise à la même date que la réservation"
   ]
  },
  {
   "cell_type": "markdown",
   "id": "6cef28d4",
   "metadata": {},
   "source": [
    "### Analyse des variables qualitatifs"
   ]
  },
  {
   "cell_type": "code",
   "execution_count": 31,
   "id": "4b5948cc",
   "metadata": {},
   "outputs": [
    {
     "data": {
      "image/png": "[encoded data removed]",
      "text/plain": [
       "<Figure size 432x288 with 1 Axes>"
      ]
     },
     "metadata": {},
     "output_type": "display_data"
    },
    {
     "data": {
      "image/png": "[encoded data removed]",
      "text/plain": [
       "<Figure size 432x288 with 1 Axes>"
      ]
     },
     "metadata": {},
     "output_type": "display_data"
    },
    {
     "data": {
      "image/png": "[encoded data removed]",
      "text/plain": [
       "<Figure size 432x288 with 1 Axes>"
      ]
     },
     "metadata": {},
     "output_type": "display_data"
    },
    {
     "data": {
      "image/png": "[encoded data removed]",
      "text/plain": [
       "<Figure size 432x288 with 1 Axes>"
      ]
     },
     "metadata": {},
     "output_type": "display_data"
    },
    {
     "data": {
      "image/png": "[encoded data removed]",
      "text/plain": [
       "<Figure size 432x288 with 1 Axes>"
      ]
     },
     "metadata": {},
     "output_type": "display_data"
    },
    {
     "data": {
      "image/png": "[encoded data removed]",
      "text/plain": [
       "<Figure size 432x288 with 1 Axes>"
      ]
     },
     "metadata": {},
     "output_type": "display_data"
    },
    {
     "data": {
      "image/png": "[encoded data removed]",
      "text/plain": [
       "<Figure size 432x288 with 1 Axes>"
      ]
     },
     "metadata": {},
     "output_type": "display_data"
    }
   ],
   "source": [
    "list_var = [\"Gender\",\"Scholarship\",\"Hipertension\",\"Diabetes\",\"Alcoholism\",\"Handcap\",\"SMS_received\"]\n",
    "for col in list_var:\n",
    "    plt.figure()\n",
    "    df[col].value_counts().plot.pie()"
   ]
  },
  {
   "cell_type": "markdown",
   "id": "2718b4e4",
   "metadata": {},
   "source": [
    "## Relation target et variables"
   ]
  },
  {
   "cell_type": "markdown",
   "id": "fe81b642",
   "metadata": {},
   "source": [
    "#### Création des sous ensembles présence et abscence au rendez-vous pour faciliter l'analyse"
   ]
  },
  {
   "cell_type": "code",
   "execution_count": 32,
   "id": "c6a7452a",
   "metadata": {},
   "outputs": [],
   "source": [
    "list_present = df.query(\"no_show == 1\")\n",
    "list_absent = df.query(\"no_show == 0\")"
   ]
  },
  {
   "cell_type": "code",
   "execution_count": 33,
   "id": "22b30da6",
   "metadata": {},
   "outputs": [
    {
     "data": {
      "image/png": "[encoded data removed]",
      "text/plain": [
       "<Figure size 432x288 with 1 Axes>"
      ]
     },
     "metadata": {
      "needs_background": "light"
     },
     "output_type": "display_data"
    },
    {
     "data": {
      "image/png": "[encoded data removed]",
      "text/plain": [
       "<Figure size 432x288 with 1 Axes>"
      ]
     },
     "metadata": {
      "needs_background": "light"
     },
     "output_type": "display_data"
    },
    {
     "data": {
      "image/png": "[encoded data removed]",
      "text/plain": [
       "<Figure size 432x288 with 1 Axes>"
      ]
     },
     "metadata": {
      "needs_background": "light"
     },
     "output_type": "display_data"
    },
    {
     "data": {
      "image/png": "[encoded data removed]",
      "text/plain": [
       "<Figure size 432x288 with 1 Axes>"
      ]
     },
     "metadata": {
      "needs_background": "light"
     },
     "output_type": "display_data"
    },
    {
     "data": {
      "image/png": "[encoded data removed]",
      "text/plain": [
       "<Figure size 432x288 with 1 Axes>"
      ]
     },
     "metadata": {
      "needs_background": "light"
     },
     "output_type": "display_data"
    },
    {
     "data": {
      "image/png": "[encoded data removed]",
      "text/plain": [
       "<Figure size 432x288 with 1 Axes>"
      ]
     },
     "metadata": {
      "needs_background": "light"
     },
     "output_type": "display_data"
    },
    {
     "data": {
      "image/png": "[encoded data removed]",
      "text/plain": [
       "<Figure size 432x288 with 1 Axes>"
      ]
     },
     "metadata": {
      "needs_background": "light"
     },
     "output_type": "display_data"
    }
   ],
   "source": [
    "for col in list_var:\n",
    "    plt.figure()\n",
    "    sns.histplot(list_present[col],label=\"Présent\",color=\"orange\")\n",
    "    sns.histplot(list_absent[col],label=\"Absent\")\n",
    "    plt.legend()"
   ]
  },
  {
   "cell_type": "code",
   "execution_count": 34,
   "id": "eada981a",
   "metadata": {},
   "outputs": [
    {
     "data": {
      "image/png": "[encoded data removed]",
      "text/plain": [
       "<Figure size 432x288 with 2 Axes>"
      ]
     },
     "metadata": {
      "needs_background": "light"
     },
     "output_type": "display_data"
    },
    {
     "data": {
      "image/png": "[encoded data removed]",
      "text/plain": [
       "<Figure size 432x288 with 2 Axes>"
      ]
     },
     "metadata": {
      "needs_background": "light"
     },
     "output_type": "display_data"
    },
    {
     "data": {
      "image/png": "[encoded data removed]",
      "text/plain": [
       "<Figure size 432x288 with 2 Axes>"
      ]
     },
     "metadata": {
      "needs_background": "light"
     },
     "output_type": "display_data"
    },
    {
     "data": {
      "image/png": "[encoded data removed]",
      "text/plain": [
       "<Figure size 432x288 with 2 Axes>"
      ]
     },
     "metadata": {
      "needs_background": "light"
     },
     "output_type": "display_data"
    },
    {
     "data": {
      "image/png": "[encoded data removed]",
      "text/plain": [
       "<Figure size 432x288 with 2 Axes>"
      ]
     },
     "metadata": {
      "needs_background": "light"
     },
     "output_type": "display_data"
    },
    {
     "data": {
      "image/png": "[encoded data removed]",
      "text/plain": [
       "<Figure size 432x288 with 2 Axes>"
      ]
     },
     "metadata": {
      "needs_background": "light"
     },
     "output_type": "display_data"
    },
    {
     "data": {
      "image/png": "[encoded data removed]",
      "text/plain": [
       "<Figure size 432x288 with 2 Axes>"
      ]
     },
     "metadata": {
      "needs_background": "light"
     },
     "output_type": "display_data"
    }
   ],
   "source": [
    "for col in list_var:\n",
    "    plt.figure()\n",
    "    sns.heatmap(pd.crosstab(df[\"no_show\"],df[col]),annot=True,fmt=\"d\")"
   ]
  },
  {
   "cell_type": "markdown",
   "id": "37ecebae",
   "metadata": {},
   "source": [
    "#### Relation entre notre target et la variable Age"
   ]
  },
  {
   "cell_type": "code",
   "execution_count": 38,
   "id": "40e9bcb3",
   "metadata": {},
   "outputs": [
    {
     "data": {
      "text/plain": [
       "<AxesSubplot:xlabel='Age', ylabel='count'>"
      ]
     },
     "execution_count": 38,
     "metadata": {},
     "output_type": "execute_result"
    },
    {
     "data": {
      "image/png": "[encoded data removed]",
      "text/plain": [
       "<Figure size 1800x720 with 1 Axes>"
      ]
     },
     "metadata": {
      "needs_background": "light"
     },
     "output_type": "display_data"
    }
   ],
   "source": [
    "plt.figure(figsize=(25,10))\n",
    "sns.countplot(x=\"Age\",hue=\"no_show\",data=df)\n"
   ]
  },
  {
   "cell_type": "markdown",
   "id": "28545dfb",
   "metadata": {},
   "source": [
    "#### Relation entre notre target et le nombre de jour entre la réservation et le rendez-vous"
   ]
  },
  {
   "cell_type": "code",
   "execution_count": 54,
   "id": "8e1a4367",
   "metadata": {
    "scrolled": true
   },
   "outputs": [
    {
     "data": {
      "text/plain": [
       "<AxesSubplot:xlabel='DayDiff', ylabel='count'>"
      ]
     },
     "execution_count": 54,
     "metadata": {},
     "output_type": "execute_result"
    },
    {
     "data": {
      "image/png": "[encoded data removed]",
      "text/plain": [
       "<Figure size 1800x720 with 1 Axes>"
      ]
     },
     "metadata": {
      "needs_background": "light"
     },
     "output_type": "display_data"
    }
   ],
   "source": [
    "plt.figure(figsize=(25,10))\n",
    "sns.countplot(x=\"DayDiff\",hue=\"no_show\",data=df)"
   ]
  },
  {
   "cell_type": "code",
   "execution_count": 58,
   "id": "a17ef529",
   "metadata": {},
   "outputs": [
    {
     "data": {
      "text/plain": [
       "0    0.953529\n",
       "1    0.046471\n",
       "Name: no_show, dtype: float64"
      ]
     },
     "execution_count": 58,
     "metadata": {},
     "output_type": "execute_result"
    }
   ],
   "source": [
    "df.query(\"DayDiff ==0\").no_show.value_counts(normalize=True)"
   ]
  },
  {
   "cell_type": "markdown",
   "id": "0ea604b7",
   "metadata": {},
   "source": [
    "> Les rendez-vous coincidant avec le jour de la réservation sont pour la majeur partie non respectés:\n",
    " soit près de 95%."
   ]
  },
  {
   "cell_type": "code",
   "execution_count": 64,
   "id": "42834c09",
   "metadata": {},
   "outputs": [
    {
     "data": {
      "text/plain": [
       "34.889528255795014"
      ]
     },
     "execution_count": 64,
     "metadata": {},
     "output_type": "execute_result"
    }
   ],
   "source": [
    "df.query(\"DayDiff==0\").shape[0] * 100 / df.shape[0]"
   ]
  },
  {
   "cell_type": "markdown",
   "id": "c1a3b9d8",
   "metadata": {},
   "source": [
    "> Près de 35% de nos rendez-vous ont la même date que celle de la réservation"
   ]
  },
  {
   "cell_type": "markdown",
   "id": "a34cb27b",
   "metadata": {},
   "source": [
    "# Conclusions"
   ]
  },
  {
   "cell_type": "markdown",
   "id": "5bb11148",
   "metadata": {},
   "source": [
    "Au sorti de notre exploration de notre jeu de données, nous constatons:\n",
    "\n",
    "    - 80% des rendez-vous ne sont pas respectés\n",
    "    - Une bonne partie de nos données concerne les rendez-vous prise à la même date que la réservation (près de 35%).\n",
    "    - Et 95% de cette partie sont des rendez-vous ratés \n",
    "    - La proportion des variables qualitatives sont relativement faible pour avancer une hypothèse sur leur impact sur la   présence du client au rendez-vous.\n",
    "    - 25698 patients ayant reçu le SMS de rappel ne se sont pas présentés contre 9784 patients\n",
    "     \n",
    "    "
   ]
  },
  {
   "cell_type": "markdown",
   "id": "4db23874",
   "metadata": {},
   "source": []
  }
 ],
 "metadata": {
  "kernelspec": {
   "display_name": "Python 3 (ipykernel)",
   "language": "python",
   "name": "python3"
  },
  "language_info": {
   "codemirror_mode": {
    "name": "ipython",
    "version": 3
   },
   "file_extension": ".py",
   "mimetype": "text/x-python",
   "name": "python",
   "nbconvert_exporter": "python",
   "pygments_lexer": "ipython3",
   "version": "3.9.12"
  }
 },
 "nbformat": 4,
 "nbformat_minor": 5
}
